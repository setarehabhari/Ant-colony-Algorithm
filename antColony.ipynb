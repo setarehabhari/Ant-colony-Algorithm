{
 "cells": [
  {
   "cell_type": "markdown",
   "metadata": {
    "id": "Ejd6qn7ZSlj3"
   },
   "source": [
    "# Problem\n",
    "In this report we are going to solve a optimization problem which is to assign n tasks to n agents and assigning each job to each agent has a given cost. Our task was to minimize this cost using Ant Colony Optimization.\n",
    "\n",
    "In this report I will explain my code and also the effect of each parameter on the final result."
   ]
  },
  {
   "cell_type": "markdown",
   "metadata": {
    "id": "bXIMzL4LUTBn"
   },
   "source": [
    "# Turning Problem Into TSP\n",
    "Our first step is to change this problem into a TSP so that we can solve it with TSP. I found out that some important points must be considered in order to do this successfully: \n",
    "\n",
    "\n",
    "*   In this problem there is no need to create a loop and we just have to calculate the cost of each city with its corresponding index \n",
    "*   For reading the cost table it doesn't matter what the previous city was, rather which city is in which index\n",
    "* While updating the pheromone table , if we updated the $i^{th}$ row and $j^{th}$ column , we must not update the $j^{th}$ row and $i^{th}$ column as well\n",
    "\n",
    "The reason for these changes is that in this problem it does not matter which city came after or before which city rather than which agent is doing which job. (i.e, which city is in which index)\n",
    "\n",
    " \n",
    "\n"
   ]
  },
  {
   "cell_type": "markdown",
   "metadata": {
    "id": "e4tNhJn0fdF8"
   },
   "source": [
    "# ACO Algorithm\n",
    "\n",
    "First I will give a general overview of what my code does and then evaluate the parameters.\n",
    "\n",
    "***Ants:***\n",
    "\n",
    "In my code I have an Ant class that creates an instance for each ant and stores it's information, such as memory of which cities it's been to, fitness of it's path so far and the city that it's currently in. In each generation I will create m ants and randomly scatter them in n cities."
   ]
  },
  {
   "cell_type": "markdown",
   "metadata": {
    "id": "G_t5he2f94eh"
   },
   "source": [
    "***Move Ants***\n",
    "\n",
    "In each generation of ants we will move all ants at once. Which means we will iterate all the ants n times and in each iteration we move each ant once and take it to the next city. For choosing the next city we will use The Random Proportional using the given $α$ and $β$  parameters. And then give the possible choices and their properties to the choices function in random library. After choosing the next city and moving our ant we will add its fitness to our ant's fitness."
   ]
  },
  {
   "cell_type": "markdown",
   "metadata": {
    "id": "v_gCMA_fBT_L"
   },
   "source": [
    "***Phermonos***\n",
    "\n",
    "After The Ants were moved each of them left a certain amount of phromon in the option they picked which will later be used for other ants to determine if it was a good path or not.\n",
    "The amount of this pheromone is determined using the given cost table for each testcase and also the constant pheromone parameter.\n"
   ]
  },
  {
   "cell_type": "markdown",
   "metadata": {
    "id": "9sOmODr8CW7A"
   },
   "source": [
    "***Evaporation***\n",
    "\n",
    "After all ants visited all n cities we will evaporate the phoromones in order to reduce the chance of repeating the more costly paths.\n",
    "But every time we will evaporate the path of the best ant a bit less in order to make it more likely to be chosen in the future. "
   ]
  },
  {
   "cell_type": "markdown",
   "metadata": {
    "id": "b2LozDoHDCB6"
   },
   "source": [
    "***Generations***\n",
    "\n",
    "When all of the ants visited all cities and left their phromones, We will remove them and create a new set of ants randomly scattered all over the cities that use the pheromone table created by the previous generations and repeat the process until the termination condition occurs."
   ]
  },
  {
   "cell_type": "code",
   "execution_count": 1,
   "metadata": {
    "id": "vv98zY8HqHb8"
   },
   "outputs": [],
   "source": [
    "import random\n",
    "import math\n"
   ]
  },
  {
   "cell_type": "code",
   "execution_count": 2,
   "metadata": {
    "id": "lvwq1-q9i94g"
   },
   "outputs": [],
   "source": [
    "class Ant:\n",
    "  def __init__(self, city):\n",
    "    self.memory = []\n",
    "    self.fitness = 0\n",
    "    self.city = int(city)\n"
   ]
  },
  {
   "cell_type": "code",
   "execution_count": 7,
   "metadata": {
    "id": "kBuQBzSXsvw5"
   },
   "outputs": [],
   "source": [
    "class ACO:\n",
    "  def __init__(self, city_number, ant_number, alpha, beta, phro_amount, evap_rate):\n",
    "    self.ant_number = ant_number\n",
    "    self.alpha = alpha\n",
    "    self.beta = beta\n",
    "    self.all_cities = [i for i in range(city_number)]\n",
    "    self.duration = [[0 for i in range(city_number)] for j in range(city_number)]\n",
    "    self.pheromons = [[1 for i in range(city_number)] for j in range(city_number)]\n",
    "    self.ants = []\n",
    "    self.best_result = []\n",
    "    self.best_fitness = 1000 * 1000 * 1000\n",
    "    self.pher_amount = phro_amount\n",
    "    self.evap_rate = evap_rate\n",
    "    self.city_number = city_number\n",
    "  \n",
    "  def formula(self, ant: Ant, city):\n",
    "    return self.pheromons[city][len(ant.memory)]**self.alpha * ((1/self.duration[city][len(ant.memory)])**self.beta)\n",
    "\n",
    "  def choose_next_city(self, ant: Ant):\n",
    "    sum = 0\n",
    "    remaining_cities = list(set(self.all_cities)- set(ant.memory))\n",
    "    for city in remaining_cities:\n",
    "      sum += self.formula(ant, city)\n",
    "    possibilities = []\n",
    "    for city in remaining_cities:\n",
    "      possibilities.append((self.formula(ant, city))/sum)\n",
    "    choices = random.choices(population=remaining_cities, weights=possibilities, k=1)\n",
    "    return int(choices[0])\n",
    "\n",
    "  def moving_the_ant(self, ant: Ant):\n",
    "    next_city = self.choose_next_city(ant)\n",
    "    self.pheromons[next_city][len(ant.memory)] += self.pher_amount/self.duration[next_city][len(ant.memory)]\n",
    "    ant.fitness += self.calculate_fitness(ant, next_city)\n",
    "    ant.city = next_city\n",
    "    ant.memory.append(next_city)\n",
    "\n",
    "  def calculate_fitness(self, ant:Ant, next_city):\n",
    "    return self.duration[next_city][len(ant.memory)]\n",
    "\n",
    "  def evaporation_process(self, best_ant:Ant):\n",
    "    for i in range(self.city_number):\n",
    "      for j in range(self.city_number):\n",
    "        if best_ant.memory[j] == i:\n",
    "          self.pheromons[i][j] = (1-(self.evap_rate/2))*self.pheromons[i][j]\n",
    "          self.pheromons[i][j] = max(self.pheromons[i][j], 0.2)\n",
    "        else:\n",
    "          self.pheromons[i][j] = (1-self.evap_rate)*self.pheromons[i][j]\n",
    "          self.pheromons[i][j] = max(self.pheromons[i][j], 0.2)\n",
    "        \n",
    "\n",
    "  def get_starting_data(self, file_name):\n",
    "    f = open(file_name, \"r\")\n",
    "    txt = f.readlines()\n",
    "\n",
    "    for i in range(self.city_number):\n",
    "      durations_list = [float(j) for j in txt[i].split()]\n",
    "      for j in range(len(durations_list)):\n",
    "          self.duration[i][j] = durations_list[j]\n",
    "\n",
    "    \n",
    "  def create_ant_colony(self):\n",
    "    self.ants = []\n",
    "    for i in range(self.ant_number):\n",
    "      first_city = random.randint(0, (self.city_number-1))\n",
    "      ant = Ant(city=first_city)\n",
    "      ant.memory.append(first_city)\n",
    "      ant.fitness = self.duration[first_city][0]\n",
    "      self.ants.append(ant)\n",
    "\n",
    "\n",
    "  def start_ACO_algorithm(self, file_name, generations):\n",
    "    for i in range(generations):\n",
    "      self.get_starting_data(file_name=file_name)\n",
    "      self.create_ant_colony()\n",
    "      self.each_generation()\n",
    "\n",
    "    print(self.best_fitness)\n",
    "    print(self.best_result)\n",
    "\n",
    "  def each_generation(self):\n",
    "    # print(self.city_number)\n",
    "    for i in range(self.city_number-1):\n",
    "      for j in range(self.ant_number):\n",
    "        self.moving_the_ant(ant=self.ants[j])\n",
    "\n",
    "    best_ant = self.ants[0]\n",
    "    for i in range(self.ant_number):\n",
    "        if self.ants[i].fitness < self.best_fitness:\n",
    "            self.best_fitness = self.ants[i].fitness\n",
    "            self.best_result = self.ants[i].memory\n",
    "            best_ant = self.ants[i]\n",
    "    \n",
    "    self.evaporation_process(best_ant)"
   ]
  },
  {
   "cell_type": "markdown",
   "metadata": {
    "id": "QKC5YL5tT5EM"
   },
   "source": [
    "# Test Cases"
   ]
  },
  {
   "cell_type": "code",
   "execution_count": 8,
   "metadata": {
    "colab": {
     "base_uri": "https://localhost:8080/"
    },
    "id": "NWGe9E82TtUy",
    "outputId": "c21462e3-2919-465d-f331-78c5640259a7"
   },
   "outputs": [
    {
     "name": "stdout",
     "output_type": "stream",
     "text": [
      "26.0\n",
      "[3, 1, 2, 0]\n"
     ]
    }
   ],
   "source": [
    "job_1_result = ACO(city_number=4, ant_number=10, alpha=2, beta=1, phro_amount=10, evap_rate=0.8)\n",
    "job_1_result.start_ACO_algorithm(file_name=\"job1.assign\", generations=4)"
   ]
  },
  {
   "cell_type": "code",
   "execution_count": null,
   "metadata": {
    "colab": {
     "base_uri": "https://localhost:8080/"
    },
    "id": "QRI5gNPv0s5x",
    "outputId": "264464b5-6504-4a25-a158-51f2e27f4123"
   },
   "outputs": [
    {
     "name": "stdout",
     "output_type": "stream",
     "text": [
      "348.0\n",
      "[12, 53, 2, 46, 27, 24, 95, 34, 51, 30, 16, 1, 44, 38, 70, 98, 89, 32, 41, 25, 31, 10, 54, 17, 49, 87, 19, 36, 75, 37, 11, 22, 50, 78, 5, 18, 52, 60, 84, 86, 4, 56, 77, 61, 96, 80, 29, 64, 43, 8, 47, 74, 72, 33, 97, 90, 7, 93, 91, 63, 92, 68, 67, 3, 26, 65, 62, 0, 14, 21, 81, 39, 79, 66, 45, 58, 35, 82, 94, 40, 88, 71, 55, 23, 48, 6, 42, 9, 28, 83, 69, 15, 76, 99, 57, 20, 73, 13, 85, 59]\n"
     ]
    }
   ],
   "source": [
    "job_2_result = ACO(city_number=100, ant_number=10, alpha=2, beta=1, phro_amount=10, evap_rate=0.9)\n",
    "job_2_result.start_ACO_algorithm(file_name=\"job2.assign\", generations=100)"
   ]
  },
  {
   "cell_type": "code",
   "execution_count": null,
   "metadata": {
    "colab": {
     "base_uri": "https://localhost:8080/"
    },
    "id": "RGZ55T7x4bFZ",
    "outputId": "5d9b8a70-7fa2-4f24-9383-e2084cc203f0"
   },
   "outputs": [
    {
     "name": "stdout",
     "output_type": "stream",
     "text": [
      "727.0\n",
      "[143, 160, 133, 27, 79, 138, 176, 171, 0, 22, 86, 17, 34, 56, 100, 163, 31, 140, 46, 152, 172, 8, 148, 95, 126, 149, 83, 142, 136, 110, 36, 71, 41, 54, 74, 150, 154, 122, 94, 55, 9, 24, 123, 173, 69, 21, 81, 120, 127, 50, 84, 194, 67, 180, 168, 15, 43, 135, 45, 14, 77, 102, 64, 174, 72, 16, 101, 26, 11, 153, 175, 130, 35, 20, 190, 78, 182, 139, 3, 62, 98, 119, 162, 141, 112, 61, 76, 29, 115, 1, 53, 178, 48, 60, 28, 170, 191, 198, 179, 97, 187, 96, 63, 70, 5, 137, 23, 89, 193, 131, 10, 58, 197, 111, 68, 113, 92, 134, 158, 189, 19, 166, 6, 181, 30, 147, 124, 161, 57, 93, 91, 177, 51, 117, 151, 145, 104, 144, 108, 157, 52, 156, 37, 129, 183, 25, 155, 167, 105, 132, 118, 99, 66, 103, 38, 195, 82, 159, 12, 40, 47, 185, 128, 75, 73, 65, 146, 49, 186, 18, 39, 116, 169, 196, 4, 80, 109, 165, 59, 114, 7, 33, 192, 42, 2, 184, 125, 85, 13, 199, 87, 121, 164, 88, 32, 44, 188, 106, 90, 107]\n"
     ]
    }
   ],
   "source": [
    "job_3_result = ACO(city_number=200, ant_number=10, alpha=0.5, beta=5, phro_amount=10, evap_rate=0.9)\n",
    "job_3_result.start_ACO_algorithm(file_name=\"job3.assign\", generations=10)"
   ]
  },
  {
   "cell_type": "markdown",
   "metadata": {
    "id": "IABPai8aLO_-"
   },
   "source": [
    "# Parameter evaluation\n",
    "***evap_rate***\n",
    "\n",
    "This parameter determines the amount of evaporation.In the second test case I tried different numbers and found out that if the evaporation is too much (evap_rate to small) It won't result in a good result which meant that the good path would be forgotten but also that after evap_rate of 0.8/0.9 it will again start generating more costly results.I also decided to eliminate any pheromone less than 0.2/0.1 and replace it with 0.2/0.1 in order to let the paths be chosen again and give the option more chances.\n"
   ]
  },
  {
   "cell_type": "markdown",
   "metadata": {
    "id": "TGxU0VAsOdL_"
   },
   "source": [
    "***alpha and beta***\n",
    "\n",
    "The alpha and beta parameters were dependent on each other. I realised that in my algorithm if the alpha param is greater than beta\n",
    "it will result in a more costly result. And also the params shouldn't be too big or too small. I realized that (a=0.5, b=5) for bigger test cases and (a=1, b=2) for smaller test cases gave the best result"
   ]
  },
  {
   "cell_type": "markdown",
   "metadata": {
    "id": "3KV0E3a-SlkJ"
   },
   "source": [
    "***Iterations and speed***\n",
    "\n",
    "In my algorithm after at most 100 iterations the code stopped creating better results and with 100 iterations it took 30-40 minutes for the 4th test case to generate a result less than 22k."
   ]
  },
  {
   "cell_type": "markdown",
   "metadata": {
    "id": "5NDTjX7VLIsG"
   },
   "source": [
    "# Extras\n",
    "\n",
    "Test cases for extra score:"
   ]
  },
  {
   "cell_type": "code",
   "execution_count": null,
   "metadata": {
    "colab": {
     "base_uri": "https://localhost:8080/"
    },
    "id": "BdmJAanxaQeb",
    "outputId": "279a64b0-506b-4aca-ef1d-a6b4bd7de546"
   },
   "outputs": [
    {
     "name": "stdout",
     "output_type": "stream",
     "text": [
      "21302.0\n",
      "[472, 99, 381, 509, 878, 98, 175, 97, 224, 633, 703, 548, 569, 994, 778, 756, 540, 877, 200, 363, 895, 462, 5, 380, 726, 558, 654, 355, 881, 402, 123, 397, 944, 792, 387, 324, 375, 716, 116, 684, 516, 768, 529, 438, 459, 490, 520, 195, 235, 107, 334, 328, 174, 207, 212, 572, 48, 506, 600, 351, 842, 523, 487, 53, 239, 248, 421, 230, 535, 268, 992, 170, 851, 152, 321, 957, 990, 416, 445, 928, 765, 498, 289, 817, 991, 488, 446, 127, 182, 17, 513, 134, 682, 925, 126, 0, 188, 793, 904, 47, 730, 278, 9, 467, 660, 64, 766, 352, 342, 769, 888, 39, 972, 106, 261, 495, 437, 393, 75, 430, 640, 622, 818, 203, 419, 610, 767, 854, 149, 412, 623, 299, 404, 764, 636, 903, 316, 865, 366, 681, 196, 570, 238, 518, 257, 82, 474, 339, 712, 6, 782, 983, 580, 694, 218, 915, 863, 37, 874, 384, 604, 545, 69, 85, 626, 201, 948, 586, 410, 455, 659, 105, 466, 30, 563, 19, 658, 307, 209, 79, 665, 701, 426, 422, 413, 96, 827, 714, 350, 749, 197, 138, 678, 582, 649, 11, 930, 503, 471, 29, 267, 89, 161, 544, 457, 256, 963, 458, 969, 533, 49, 236, 955, 867, 442, 231, 852, 319, 115, 971, 38, 171, 341, 155, 839, 891, 394, 542, 40, 367, 645, 26, 561, 924, 486, 748, 54, 813, 848, 163, 51, 791, 55, 372, 853, 313, 315, 160, 153, 901, 538, 475, 843, 830, 896, 692, 536, 390, 909, 277, 514, 4, 611, 772, 215, 132, 898, 130, 109, 139, 464, 210, 270, 547, 911, 672, 806, 776, 565, 876, 178, 805, 978, 327, 15, 202, 162, 56, 14, 828, 739, 57, 284, 584, 310, 364, 42, 757, 44, 798, 78, 478, 461, 21, 221, 374, 642, 906, 875, 733, 443, 66, 411, 820, 984, 810, 274, 989, 986, 329, 168, 320, 864, 628, 260, 86, 603, 731, 821, 539, 489, 216, 361, 931, 343, 943, 494, 204, 618, 263, 460, 690, 696, 590, 709, 470, 657, 784, 18, 500, 592, 281, 639, 206, 866, 479, 432, 844, 68, 625, 265, 400, 241, 837, 362, 747, 550, 7, 448, 35, 77, 305, 711, 3, 579, 951, 183, 845, 595, 94, 850, 825, 676, 314, 607, 894, 587, 507, 481, 785, 252, 373, 897, 323, 20, 482, 803, 774, 258, 456, 823, 512, 441, 36, 420, 566, 388, 407, 22, 229, 304, 117, 227, 159, 593, 892, 359, 781, 28, 693, 612, 262, 656, 650, 306, 920, 192, 357, 737, 999, 428, 141, 893, 340, 401, 970, 522, 349, 945, 266, 225, 917, 246, 913, 933, 158, 199, 83, 369, 902, 981, 418, 409, 855, 530, 997, 754, 923, 557, 661, 567, 795, 358, 451, 871, 976, 41, 597, 510, 809, 526, 145, 846, 718, 666, 191, 121, 860, 247, 591, 81, 602, 325, 704, 856, 668, 620, 333, 322, 425, 8, 613, 92, 137, 283, 794, 214, 905, 240, 253, 721, 870, 887, 497, 908, 67, 269, 808, 732, 840, 546, 958, 982, 154, 608, 32, 916, 735, 148, 406, 699, 947, 789, 880, 632, 300, 485, 61, 288, 751, 725, 655, 802, 687, 634, 84, 919, 376, 515, 568, 952, 108, 741, 167, 122, 973, 873, 120, 800, 746, 738, 968, 226, 857, 980, 454, 575, 670, 331, 601, 651, 734, 60, 73, 900, 336, 124, 762, 233, 424, 112, 185, 181, 740, 447, 812, 683, 556, 941, 58, 574, 647, 186, 615, 977, 282, 934, 31, 337, 621, 637, 33, 742, 858, 807, 194, 72, 338, 118, 799, 140, 213, 27, 950, 879, 938, 344, 449, 147, 995, 453, 573, 790, 237, 496, 961, 111, 383, 450, 2, 271, 157, 193, 935, 706, 576, 667, 616, 815, 910, 705, 932, 223, 653, 317, 883, 114, 890, 937, 275, 819, 131, 259, 276, 499, 652, 594, 113, 939, 1, 251, 250, 543, 414, 531, 136, 755, 822, 403, 93, 360, 285, 537, 675, 974, 775, 826, 189, 816, 811, 172, 700, 783, 293, 598, 444, 332, 173, 177, 405, 605, 217, 673, 423, 759, 303, 427, 882, 849, 967, 859, 643, 614, 129, 371, 549, 296, 836, 211, 45, 255, 847, 103, 312, 832, 641, 559, 583, 309, 220, 884, 492, 648, 346, 872, 435, 291, 551, 228, 777, 889, 722, 715, 926, 52, 272, 91, 80, 395, 585, 24, 379, 752, 180, 125, 431, 835, 599, 797, 578, 100, 519, 249, 723, 25, 179, 727, 88, 758, 686, 308, 750, 841, 95, 399, 914, 885, 436, 242, 290, 244, 987, 760, 517, 70, 720, 713, 664, 23, 577, 679, 787, 280, 868, 571, 439, 473, 553, 635, 624, 966, 493, 429, 695, 796, 504, 146, 484, 370, 392, 773, 521, 831, 365, 838, 744, 998, 187, 165, 708, 702, 804, 279, 434, 953, 824, 440, 354, 166, 477, 946, 74, 292, 62, 780, 921, 143, 385, 534, 377, 829, 532, 736, 433, 524, 348, 469, 208, 927, 12, 176, 581, 463, 918, 834, 368, 90, 629, 922, 985, 102, 677, 959, 415, 646, 491, 724, 525, 940, 356, 483, 302, 671, 398, 205, 788, 243, 717, 528, 43, 386, 128, 10, 468, 899, 164, 588, 508, 294, 65, 150, 71, 104, 142, 480, 964, 680, 936, 644, 541, 638, 619, 630, 273, 770, 527, 552, 993, 326, 786, 301, 814, 452, 560, 697, 46, 743, 13, 627, 353, 929, 119, 476, 198, 710, 311, 685, 190, 335, 298, 245, 719, 501, 962, 63, 555, 345, 297, 779, 862, 979, 295, 378, 949, 606, 101, 763, 589, 674, 408, 965, 729, 232, 609, 728, 689, 761, 396, 287, 956, 960, 135, 389, 833, 234, 745, 662, 184, 617, 465, 144, 753, 87, 286, 391, 151, 254, 707, 663, 169, 347, 76, 264, 954, 502, 988, 382, 511, 50, 907, 222, 912, 631, 869, 554, 564, 688, 330, 942, 698, 596, 59, 771, 318, 886, 691, 669, 505, 34, 562, 801, 133, 996, 156, 16, 219, 110, 975, 861, 417]\n"
     ]
    }
   ],
   "source": [
    "job_4_result = ACO(city_number=1000, ant_number=20, alpha=0.5, beta=10, phro_amount=5, evap_rate=0.9)\n",
    "job_4_result.start_ACO_algorithm(file_name=\"job4.assign\", generations=100)"
   ]
  },
  {
   "cell_type": "code",
   "execution_count": null,
   "metadata": {
    "colab": {
     "base_uri": "https://localhost:8080/"
    },
    "id": "ZbPIIKqBbRKp",
    "outputId": "5d31d1c6-c3cb-4deb-e989-14ef064536a8"
   },
   "outputs": [
    {
     "name": "stdout",
     "output_type": "stream",
     "text": [
      "48272.0\n",
      "[856, 1510, 1929, 1782, 741, 290, 528, 1635, 238, 600, 424, 1661, 41, 637, 1793, 1471, 1413, 171, 408, 517, 753, 1157, 318, 157, 1251, 1756, 1098, 598, 1846, 1291, 1844, 1370, 1733, 228, 795, 1312, 728, 97, 241, 660, 260, 302, 1921, 431, 917, 1546, 355, 1486, 1439, 72, 1422, 1447, 847, 1099, 1652, 1865, 575, 330, 81, 1146, 543, 1554, 1794, 229, 1451, 830, 1592, 852, 1477, 331, 1902, 1508, 1066, 467, 1347, 482, 996, 895, 1649, 1532, 163, 379, 1310, 662, 523, 1892, 1141, 1201, 652, 1231, 1613, 1854, 279, 829, 842, 353, 1962, 350, 1302, 1537, 38, 804, 563, 1420, 1040, 488, 1820, 438, 1668, 1197, 596, 1976, 436, 1285, 1170, 1491, 619, 516, 1587, 1577, 18, 761, 341, 1443, 1611, 251, 813, 1543, 1639, 1594, 1765, 88, 1738, 1032, 796, 230, 1873, 757, 771, 926, 627, 1208, 1323, 612, 403, 799, 1069, 763, 744, 865, 835, 941, 485, 1124, 518, 503, 974, 1428, 805, 54, 843, 1951, 1371, 573, 388, 317, 1916, 697, 1306, 1359, 1203, 1983, 670, 1081, 1901, 1216, 704, 1492, 554, 168, 1108, 1150, 1541, 947, 593, 1267, 1426, 1700, 513, 1075, 616, 1059, 514, 8, 897, 881, 1959, 1330, 1936, 1787, 609, 1118, 396, 320, 20, 1694, 1167, 658, 870, 1139, 1556, 1627, 632, 1317, 1816, 725, 297, 1981, 1842, 1604, 337, 867, 531, 1145, 1416, 400, 912, 1677, 1248, 1953, 977, 628, 973, 849, 76, 1063, 96, 1659, 1940, 1848, 1196, 121, 83, 559, 1630, 195, 1374, 1073, 1576, 1354, 770, 903, 1079, 802, 395, 699, 1408, 1673, 1745, 1967, 696, 1106, 491, 1974, 1090, 1048, 1815, 1972, 949, 862, 1085, 651, 1037, 1481, 838, 1698, 250, 1849, 1243, 344, 1506, 434, 711, 1599, 1372, 1123, 1293, 6, 1397, 1392, 1093, 1415, 1893, 132, 1799, 806, 1987, 1414, 375, 1571, 1536, 1979, 564, 1531, 1856, 150, 1589, 604, 1365, 1222, 1154, 420, 1608, 1504, 1346, 985, 1667, 358, 1324, 1918, 139, 1129, 104, 1575, 1535, 1212, 365, 1080, 386, 1316, 1115, 1800, 1574, 61, 1582, 17, 1045, 499, 411, 1540, 1605, 724, 481, 242, 273, 909, 1734, 908, 1928, 1930, 1029, 1192, 1409, 224, 1909, 1022, 1524, 544, 923, 898, 1569, 780, 1944, 1287, 233, 520, 1284, 249, 78, 1181, 1640, 429, 1963, 406, 177, 336, 1102, 931, 428, 1475, 1023, 295, 500, 498, 1653, 397, 245, 22, 746, 1024, 1296, 1780, 169, 1484, 1625, 130, 1822, 894, 205, 566, 1952, 508, 1588, 1387, 709, 533, 790, 64, 521, 366, 1832, 1242, 361, 1786, 558, 907, 698, 1437, 1637, 953, 1065, 1046, 1433, 125, 1058, 154, 622, 650, 492, 1764, 791, 555, 1697, 0, 808, 1479, 495, 447, 119, 105, 448, 322, 1712, 1814, 432, 930, 644, 583, 1923, 1708, 1215, 615, 904, 1724, 1691, 87, 721, 988, 614, 1797, 1343, 1876, 589, 3, 179, 922, 1597, 765, 1453, 1703, 910, 206, 410, 1731, 736, 668, 645, 1490, 675, 1634, 1007, 1334, 480, 1722, 1241, 1233, 946, 859, 146, 327, 324, 940, 863, 303, 1130, 1980, 470, 1568, 111, 524, 1602, 1672, 999, 855, 1452, 1995, 1651, 665, 556, 1279, 576, 1277, 1560, 9, 1886, 1189, 936, 1004, 147, 314, 1498, 1466, 210, 542, 1749, 1796, 817, 65, 1200, 1327, 118, 1937, 30, 1009, 246, 599, 21, 760, 378, 1601, 32, 66, 1254, 345, 39, 1867, 1629, 1770, 2, 1011, 605, 906, 568, 1614, 1857, 1830, 1704, 1828, 1133, 272, 477, 1670, 1831, 562, 1759, 14, 1713, 1184, 710, 407, 1993, 1341, 571, 101, 469, 34, 750, 142, 1885, 548, 368, 1996, 1769, 1094, 1412, 755, 574, 423, 1092, 1896, 1476, 1801, 100, 1654, 1469, 654, 749, 1176, 1107, 738, 1894, 1860, 786, 1205, 1183, 1583, 1460, 1817, 1429, 818, 226, 666, 570, 1245, 1908, 1227, 886, 1186, 1517, 848, 1258, 526, 1110, 1153, 1855, 913, 187, 1158, 419, 793, 19, 965, 731, 1837, 362, 1207, 1148, 1138, 1512, 1655, 978, 286, 726, 1342, 1380, 1464, 1806, 1418, 1644, 405, 1128, 836, 828, 549, 1228, 1548, 144, 1900, 1078, 211, 274, 131, 1725, 69, 989, 452, 661, 1112, 1988, 515, 785, 1563, 1209, 1715, 1721, 443, 967, 948, 1755, 1445, 611, 873, 1878, 117, 124, 473, 1206, 951, 1549, 1140, 1017, 1695, 433, 192, 1266, 896, 1643, 1179, 189, 1835, 1762, 1642, 1084, 1507, 642, 1281, 980, 55, 161, 905, 1463, 1211, 204, 1280, 356, 1866, 844, 1585, 1570, 1883, 1945, 1584, 1692, 196, 718, 1467, 1829, 717, 383, 1309, 597, 1609, 263, 1305, 527, 1768, 1561, 891, 1003, 540, 194, 1384, 893, 1938, 120, 888, 1696, 215, 944, 1144, 1760, 152, 1553, 268, 1862, 1202, 629, 1950, 285, 705, 1050, 850, 1151, 546, 1474, 714, 1273, 308, 1957, 1779, 264, 289, 758, 1394, 50, 1493, 1105, 339, 166, 459, 380, 569, 102, 759, 506, 776, 624, 695, 1271, 1913, 972, 98, 1159, 659, 919, 1824, 1607, 412, 1340, 803, 53, 227, 707, 1318, 1580, 1521, 915, 993, 580, 841, 291, 920, 962, 1175, 639, 819, 1567, 1939, 334, 453, 557, 235, 507, 1487, 1276, 1558, 180, 1051, 592, 60, 956, 232, 421, 1550, 1290, 1036, 1730, 784, 1389, 1838, 1516, 384, 751, 1403, 1741, 1528, 108, 998, 1578, 1752, 145, 1360, 455, 360, 683, 676, 479, 77, 777, 648, 1121, 911, 861, 537, 1904, 222, 899, 1352, 1889, 811, 170, 1268, 983, 493, 1998, 1044, 256, 1686, 165, 1581, 1260, 1177, 393, 1143, 186, 1927, 1485, 1135, 59, 1074, 12, 1043, 442, 221, 1784, 271, 1134, 646, 1931, 1482, 1633, 1870, 1709, 1920, 1068, 346, 684, 657, 1572, 37, 821, 94, 1871, 1720, 277, 772, 1100, 311, 691, 1436, 1850, 798, 716, 1239, 1877, 92, 1127, 1683, 335, 135, 208, 1379, 33, 1400, 539, 1811, 1681, 148, 1701, 1926, 1375, 478, 462, 103, 647, 1345, 1405, 382, 1103, 46, 1010, 351, 960, 621, 1321, 472, 981, 4, 82, 10, 1669, 174, 552, 680, 1743, 352, 1781, 864, 1388, 1440, 42, 1204, 191, 63, 512, 610, 13, 425, 1311, 281, 127, 1557, 1772, 1462, 1169, 1147, 1925, 1941, 958, 1351, 767, 1326, 510, 1917, 1337, 1739, 440, 769, 578, 1137, 74, 128, 1903, 329, 1552, 1062, 234, 1224, 685, 1818, 1193, 1495, 1898, 1515, 143, 1136, 1444, 1000, 1825, 1723, 1274, 565, 625, 822, 1218, 426, 577, 1977, 1221, 613, 1804, 584, 1775, 688, 1435, 391, 198, 545, 840, 1566, 1086, 458, 370, 1338, 333, 1899, 918, 887, 1757, 1096, 809, 1364, 1350, 1882, 1631, 468, 1705, 937, 1472, 1335, 1676, 1448, 942, 538, 1991, 1735, 1042, 1339, 23, 641, 693, 364, 1255, 1719, 1163, 1986, 943, 484, 1843, 85, 1847, 367, 1728, 572, 1646, 1859, 389, 212, 1968, 1890, 1367, 1219, 5, 214, 673, 258, 35, 713, 1522, 348, 1845, 417, 1682, 456, 1056, 1250, 1054, 1823, 739, 1497, 409, 299, 1496, 832, 1441, 1526, 1771, 307, 1628, 1332, 1915, 620, 608, 188, 1586, 416, 964, 441, 1030, 1142, 309, 1788, 1684, 877, 476, 201, 313, 889, 1116, 1174, 618, 1358, 123, 1383, 1363, 1385, 1275, 269, 560, 1954, 402, 1802, 1173, 853, 461, 115, 1449, 747, 1402, 292, 1718, 882, 1840, 792, 1008, 1538, 1656, 1234, 67, 1530, 1971, 1149, 1313, 1671, 489, 1679, 1624, 1067, 1591, 312, 825, 1263, 590, 1618, 136, 875, 240, 1246, 1356, 1744, 1101, 1948, 1911, 149, 239, 1195, 1294, 58, 1391, 1161, 1319, 530, 827, 934, 553, 924, 1494, 1178, 737, 446, 1565, 831, 199, 1404, 1446, 332, 1645, 1839, 1753, 1430, 950, 1542, 701, 890, 1348, 220, 376, 1064, 140, 457, 1555, 1861, 1126, 182, 1955, 1165, 1726, 275, 1411, 1961, 1598, 839, 519, 1805, 1905, 1943, 810, 1072, 1747, 1688, 43, 1320, 1185, 298, 1041, 1647, 1872, 1616, 1615, 797, 1407, 742, 1390, 95, 253, 1286, 474, 1710, 814, 385, 561, 1152, 1454, 300, 984, 655, 427, 257, 113, 301, 387, 1922, 871, 1005, 1252, 1225, 1795, 1666, 471, 262, 1891, 369, 975, 581, 1984, 954, 1812, 1076, 398, 1523, 1880, 1619, 7, 752, 1836, 1020, 1792, 184, 851, 979, 963, 167, 1533, 1790, 1680, 399, 1053, 955, 1810, 1244, 110, 1199, 1047, 1966, 1660, 1455, 1434, 1761, 15, 885, 1970, 653, 24, 1500, 874, 175, 1230, 1612, 823, 27, 1520, 1965, 933, 284, 91, 1361, 1259, 816, 451, 504, 1377, 1590, 496, 720, 868, 1421, 1933, 1985, 529, 162, 1458, 1082, 1315, 1303, 1617, 209, 1544, 1884, 781, 445, 1740, 75, 435, 633, 594, 1562, 129, 1034, 1798, 464, 541, 1674, 667, 1155, 326, 1395, 754, 969, 1914, 1869, 1994, 394, 511, 1702, 1947, 607, 1307, 1461, 1777, 1912, 582, 1077, 1039, 373, 535, 1113, 663, 1514, 328, 1325, 733, 1308, 1505, 1265, 203, 1480, 1314, 921, 774, 1295, 1119, 357, 342, 156, 1122, 735, 1091, 694, 172, 787, 1172, 487, 729, 626, 310, 1292, 1826, 1393, 1478, 692, 1833, 1622, 1061, 213, 807, 1220, 84, 788, 824, 270, 551, 1525, 202, 359, 1156, 656, 1596, 732, 1778, 116, 1262, 1534, 938, 1906, 1382, 586, 1344, 86, 1270, 57, 957, 483, 509, 1182, 1028, 1513, 306, 1946, 197, 47, 1689, 671, 1874, 1658, 178, 73, 679, 294, 794, 1253, 304, 1333, 126, 1235, 1978, 858, 932, 782, 1026, 181, 466, 223, 884, 681, 532, 968, 1997, 1675, 783, 1257, 959, 159, 1868, 1690, 1662, 490, 1707, 1450, 155, 390, 265, 1964, 1527, 1226, 1663, 606, 1600, 1033, 678, 1603, 845, 1465, 1975, 588, 1887, 630, 1424, 1935, 316, 1289, 1013, 52, 1748, 623, 1057, 1742, 1620, 1171, 1328, 16, 1055, 70, 945, 1396, 293, 1942, 1593, 1083, 1406, 321, 1214, 834, 689, 90, 1378, 866, 1650, 902, 1751, 914, 1551, 892, 1564, 1503, 1888, 244, 80, 1803, 1049, 1431, 193, 636, 252, 1766, 36, 1027, 1736, 525, 1632, 1518, 338, 1932, 1373, 743, 952, 1240, 48, 1012, 591, 1357, 494, 1982, 282, 261, 603, 1198, 925, 997, 672, 778, 497, 404, 1223, 1791, 254, 475, 248, 259, 1767, 602, 1070, 833, 722, 601, 1813, 987, 1919, 854, 1016, 706, 1236, 1180, 976, 1776, 727, 377, 114, 634, 501, 71, 766, 225, 11, 1249, 579, 1060, 1687, 40, 465, 674, 1821, 454, 1237, 880, 878, 1015, 1999, 296, 112, 800, 45, 107, 444, 1716, 133, 1511, 1111, 1021, 413, 1529, 1278, 1457, 1858, 1539, 872, 374, 1641, 901, 1104, 138, 900, 1304, 1329, 1783, 764, 1717, 1427, 643, 305, 928, 1456, 236, 122, 1336, 961, 1247, 1949, 1187, 1665, 176, 1621, 56, 1468, 1774, 49, 649, 422, 89, 1973, 1398, 1001, 325, 1714, 879, 1773, 1191, 837, 1194, 1819, 1162, 1164, 860, 1841, 1353, 502, 315, 1019, 1990, 267, 1166, 164, 1579, 1114, 1131, 200, 703, 1699, 768, 1288, 354, 363, 1331, 1834, 929, 1025, 869, 418, 218, 1657, 1648, 439, 1381, 1924, 1907, 664, 430, 158, 1711, 1109, 775, 1727, 762, 1095, 1960, 522, 773, 723, 1789, 939, 1261, 173, 1852, 1423, 748, 1547, 1052, 883, 1489, 1459, 617, 1863, 1088, 1210, 450, 857, 547, 1038, 1559, 779, 137, 44, 1758, 347, 1989, 1509, 151, 1807, 1349, 1879, 319, 106, 1269, 1473, 1488, 1499, 1737, 1623, 631, 1626, 994, 756, 1117, 1376, 971, 392, 26, 1573, 1369, 414, 219, 1071, 437, 986, 1693, 51, 1355, 1750, 62, 1595, 1638, 31, 669, 1746, 1120, 734, 401, 635, 449, 153, 789, 343, 283, 801, 745, 109, 970, 463, 276, 567, 995, 1442, 677, 708, 682, 1969, 982, 1160, 1732, 595, 1386, 820, 1362, 216, 340, 505, 323, 160, 1299, 1188, 640, 1851, 287, 1366, 1002, 1897, 1763, 585, 1283, 536, 1399, 141, 1300, 99, 1282, 991, 1956, 702, 1729, 1808, 243, 288, 1232, 237, 990, 1272, 927, 534, 935, 266, 1545, 587, 730, 231, 1606, 1264, 1934, 349, 1, 1125, 1410, 638, 1301, 700, 1958, 1097, 1256, 1035, 815, 826, 29, 79, 1213, 25, 1706, 916, 1322, 1425, 1809, 280, 185, 690, 1298, 1519, 812, 207, 1685, 846, 1438, 1368, 278, 1190, 1785, 1018, 1401, 1031, 686, 134, 1636, 1881, 712, 992, 966, 1895, 719, 687, 1853, 372, 1238, 1754, 1910, 1087, 460, 715, 1432, 740, 486, 1006, 550, 68, 1168, 1502, 1470, 381, 1014, 1229, 217, 183, 1089, 1864, 1132, 1610, 1664, 1501, 1875, 876, 1419, 1417, 1992, 247, 1297, 255, 415, 1678, 1827, 1217, 28, 190, 371, 93, 1483]\n"
     ]
    }
   ],
   "source": [
    "job_5_result = ACO(city_number=2000, ant_number=20, alpha=0.5, beta=10, phro_amount=5, evap_rate=0.9)\n",
    "job_5_result.start_ACO_algorithm(file_name=\"job5.assign\", generations=100)"
   ]
  }
 ],
 "metadata": {
  "colab": {
   "collapsed_sections": [],
   "name": "Bio-Hw3.ipynb",
   "provenance": []
  },
  "kernelspec": {
   "display_name": "Python 3 (ipykernel)",
   "language": "python",
   "name": "python3"
  },
  "language_info": {
   "codemirror_mode": {
    "name": "ipython",
    "version": 3
   },
   "file_extension": ".py",
   "mimetype": "text/x-python",
   "name": "python",
   "nbconvert_exporter": "python",
   "pygments_lexer": "ipython3",
   "version": "3.8.10"
  }
 },
 "nbformat": 4,
 "nbformat_minor": 1
}
